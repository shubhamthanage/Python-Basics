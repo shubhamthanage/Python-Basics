{
 "cells": [
  {
   "cell_type": "markdown",
   "id": "c6f47b02",
   "metadata": {},
   "source": [
    "# 1.\tWrite a Python Program to Find LCM?\n"
   ]
  },
  {
   "cell_type": "code",
   "execution_count": 28,
   "id": "6ec1303b",
   "metadata": {},
   "outputs": [
    {
     "name": "stdout",
     "output_type": "stream",
     "text": [
      "Enter first number: 8\n",
      "Enter second number: 12\n",
      "The L.C.M. is: 24\n"
     ]
    }
   ],
   "source": [
    "num1 = int(input(\"Enter first number: \"))\n",
    "num2 = int(input(\"Enter second number: \"))\n",
    "if num1 > num2:\n",
    "    greater = num1\n",
    "else:\n",
    "    greater = num2\n",
    "    while(True):\n",
    "        if((greater % num1 == 0) and (greater % num2 == 0)):\n",
    "            lcm = greater\n",
    "            break\n",
    "        greater += 1\n",
    "    print(f\"The L.C.M. is: {lcm}\")"
   ]
  },
  {
   "cell_type": "markdown",
   "id": "5fc68a16",
   "metadata": {},
   "source": [
    "# 2.\tWrite a Python Program to Find HCF?\n"
   ]
  },
  {
   "cell_type": "code",
   "execution_count": 26,
   "id": "b696363f",
   "metadata": {},
   "outputs": [
    {
     "name": "stdout",
     "output_type": "stream",
     "text": [
      "Enter first number: 24\n",
      "Enter second number: 30\n",
      "The HCF of 24 and 30 is:  6\n"
     ]
    }
   ],
   "source": [
    "num1 = int(input(\"Enter first number: \"))\n",
    "num2 = int(input(\"Enter second number: \"))\n",
    "if num1 > num2:\n",
    "    smaller = num2\n",
    "else:\n",
    "    smaller = num1\n",
    "    for i in range(1, smaller+1):\n",
    "        if((num1 % i == 0) and (num2 % i == 0)):\n",
    "            hcf = i\n",
    "    print(f\"The HCF of {num1} and {num2} is:  {hcf}\")"
   ]
  },
  {
   "cell_type": "markdown",
   "id": "5cf02ab1",
   "metadata": {},
   "source": [
    "# 3.\tWrite a Python Program to Convert Decimal to Binary, Octal and Hexadecimal?\n"
   ]
  },
  {
   "cell_type": "code",
   "execution_count": 10,
   "id": "4bd86dad",
   "metadata": {},
   "outputs": [
    {
     "name": "stdout",
     "output_type": "stream",
     "text": [
      "Enter a decimal number: 12\n",
      "Binary representation of 12 is : 0b1100\n",
      "Octal representation of 12 is : 0o14\n",
      "Hexadecimal representation of 12 is : 0xc\n"
     ]
    }
   ],
   "source": [
    "# Decimal to Binary, Octal, and Hexadecimal Conversion\n",
    "\n",
    "decimal_num = int(input(\"Enter a decimal number: \"))\n",
    "\n",
    "# Binary \n",
    "binary = bin(decimal_num)\n",
    "print(f\"Binary representation of {decimal_num} is : {binary}\")\n",
    "\n",
    "# Octal \n",
    "octal = oct(decimal_num)\n",
    "print(f\"Octal representation of {decimal_num} is : {octal}\")\n",
    "\n",
    "# Hexadecimal \n",
    "hexadecimal = hex(decimal_num)\n",
    "print(f\"Hexadecimal representation of {decimal_num} is : {hexadecimal}\")"
   ]
  },
  {
   "cell_type": "markdown",
   "id": "1d8f6658",
   "metadata": {},
   "source": [
    "# 4.\tWrite a Python Program To Find ASCII value of a character?\n"
   ]
  },
  {
   "cell_type": "code",
   "execution_count": 9,
   "id": "f34ff08e",
   "metadata": {},
   "outputs": [
    {
     "name": "stdout",
     "output_type": "stream",
     "text": [
      "**Note: Make Sure to Enter only Single Character\n",
      "Enter Character to find its ASCII Value: A\n",
      "The ASCII value of A is: 65\n"
     ]
    }
   ],
   "source": [
    "print(\"**Note: Make Sure to Enter only Single Character\")\n",
    "char = input(\"Enter Character to find its ASCII Value: \")\n",
    "print(F\"The ASCII value of {char} is: {ord(char)}\")"
   ]
  },
  {
   "cell_type": "markdown",
   "id": "50d6bb78",
   "metadata": {},
   "source": [
    "# 5.\tWrite a Python Program to Make a Simple Calculator with 4 basic mathematical operations?\n"
   ]
  },
  {
   "cell_type": "code",
   "execution_count": 4,
   "id": "c3347386",
   "metadata": {},
   "outputs": [
    {
     "name": "stdout",
     "output_type": "stream",
     "text": [
      "Enter Number 1: 12\n",
      "Enter Number 2: 12\n",
      "###  Select Option  ###\n",
      "For Addition Enter : 1\n",
      "For Substraction Enter : 2\n",
      "For Multiplication Enter : 3\n",
      "For Division Enter : 4\n",
      "Enter Choice: 4\n",
      "Division of 12 and 12 is: 1.0\n"
     ]
    }
   ],
   "source": [
    "# calculator\n",
    "num1 = int(input(\"Enter Number 1: \"))\n",
    "num2 = int(input(\"Enter Number 2: \"))\n",
    "\n",
    "print(\"###  Select Option  ###\")\n",
    "print(\"For Addition Enter : 1\")\n",
    "print(\"For Substraction Enter : 2\")\n",
    "print(\"For Multiplication Enter : 3\")\n",
    "print(\"For Division Enter : 4\")\n",
    "choice =  int(input(\"Enter Choice: \"))\n",
    "\n",
    "if choice == 1:\n",
    "    add = num1+num2\n",
    "    print(f\"Addition of {num1} and {num2} is: {add}\")\n",
    "elif choice == 2:\n",
    "    sub = num1-num2\n",
    "    print(f\"Substraction of {num1} and {num2} is: {sub}\")\n",
    "elif choice == 3:\n",
    "    mul = num1*num2\n",
    "    print(f\"Multiplication of {num1} and {num2} is: {mul}\")\n",
    "elif choice == 4:\n",
    "    div = num1/num2\n",
    "    print(f\"Division of {num1} and {num2} is: {div}\")\n",
    "else:\n",
    "    print(\"Invalid Input! Try Again.\")"
   ]
  },
  {
   "cell_type": "code",
   "execution_count": null,
   "id": "9c56d89f",
   "metadata": {},
   "outputs": [],
   "source": []
  }
 ],
 "metadata": {
  "kernelspec": {
   "display_name": "Python 3 (ipykernel)",
   "language": "python",
   "name": "python3"
  },
  "language_info": {
   "codemirror_mode": {
    "name": "ipython",
    "version": 3
   },
   "file_extension": ".py",
   "mimetype": "text/x-python",
   "name": "python",
   "nbconvert_exporter": "python",
   "pygments_lexer": "ipython3",
   "version": "3.9.12"
  }
 },
 "nbformat": 4,
 "nbformat_minor": 5
}
