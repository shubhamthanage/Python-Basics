{
 "cells": [
  {
   "cell_type": "markdown",
   "id": "5268a960",
   "metadata": {},
   "source": [
    "# 1.\tWrite a Python program to print \"Hello Python\"?\n"
   ]
  },
  {
   "cell_type": "code",
   "execution_count": 3,
   "id": "ce29ae05",
   "metadata": {},
   "outputs": [
    {
     "name": "stdout",
     "output_type": "stream",
     "text": [
      "Hello Python\n"
     ]
    }
   ],
   "source": [
    "print(\"Hello Python\")"
   ]
  },
  {
   "cell_type": "markdown",
   "id": "3a2f5bb9",
   "metadata": {},
   "source": [
    "# 2.\tWrite a Python program to do arithmetical operations addition and division.?\n"
   ]
  },
  {
   "cell_type": "code",
   "execution_count": 7,
   "id": "9aaeeda3",
   "metadata": {},
   "outputs": [
    {
     "name": "stdout",
     "output_type": "stream",
     "text": [
      "Addition of a and b is: 50\n",
      "Diviion of a and b is: 5.0\n"
     ]
    }
   ],
   "source": [
    "# Addition\n",
    "a = 25\n",
    "b = 25\n",
    "addition = a + b\n",
    "print(f\"Addition of a and b is: {addition}\")\n",
    "\n",
    "# Division\n",
    "a = 25\n",
    "b = 5\n",
    "division = a/b\n",
    "print(f\"Diviion of a and b is: {division}\")\n",
    "\n"
   ]
  },
  {
   "cell_type": "markdown",
   "id": "6c757bbe",
   "metadata": {},
   "source": [
    "# 3.\tWrite a Python program to find the area of a triangle?\n"
   ]
  },
  {
   "cell_type": "code",
   "execution_count": 9,
   "id": "9ed08b0d",
   "metadata": {},
   "outputs": [
    {
     "name": "stdout",
     "output_type": "stream",
     "text": [
      "Area of triangle is: 25.0\n"
     ]
    }
   ],
   "source": [
    "# Program to find the area of triangle\n",
    "base = 5\n",
    "height = 10\n",
    "area_of_triangle = (base*height)/2\n",
    "print(f\"Area of triangle is: {area_of_triangle}\")"
   ]
  },
  {
   "cell_type": "markdown",
   "id": "34db4fa0",
   "metadata": {},
   "source": [
    "# 4.\tWrite a Python program to swap two variables?\n"
   ]
  },
  {
   "cell_type": "code",
   "execution_count": 11,
   "id": "e57b3753",
   "metadata": {},
   "outputs": [
    {
     "name": "stdout",
     "output_type": "stream",
     "text": [
      "Before Value of a is 20 and Value of b is 30\n",
      "30\n",
      "20\n",
      "After Swapping, Value of a is 30 and Value of b is 20\n"
     ]
    }
   ],
   "source": [
    "a=20\n",
    "b=30\n",
    "print(f\"Before Value of a is {a} and Value of b is {b}\")\n",
    "a = b+a\n",
    "b = a-b\n",
    "a = a-b\n",
    "print(a)\n",
    "print(b)\n",
    "print(f\"After Swapping, Value of a is {a} and Value of b is {b}\")"
   ]
  },
  {
   "cell_type": "markdown",
   "id": "16e7718b",
   "metadata": {},
   "source": [
    "# 5.\tWrite a Python program to generate a random number?"
   ]
  },
  {
   "cell_type": "code",
   "execution_count": 22,
   "id": "b7869426",
   "metadata": {},
   "outputs": [
    {
     "name": "stdout",
     "output_type": "stream",
     "text": [
      "38\n"
     ]
    }
   ],
   "source": [
    "import random\n",
    "\n",
    "random_num = random.randint(1, 100)\n",
    "print(random_num)"
   ]
  },
  {
   "cell_type": "code",
   "execution_count": null,
   "id": "fd4444a1",
   "metadata": {},
   "outputs": [],
   "source": []
  }
 ],
 "metadata": {
  "kernelspec": {
   "display_name": "Python 3 (ipykernel)",
   "language": "python",
   "name": "python3"
  },
  "language_info": {
   "codemirror_mode": {
    "name": "ipython",
    "version": 3
   },
   "file_extension": ".py",
   "mimetype": "text/x-python",
   "name": "python",
   "nbconvert_exporter": "python",
   "pygments_lexer": "ipython3",
   "version": "3.9.12"
  }
 },
 "nbformat": 4,
 "nbformat_minor": 5
}
