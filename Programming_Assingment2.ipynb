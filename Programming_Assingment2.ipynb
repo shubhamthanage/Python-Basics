{
 "cells": [
  {
   "cell_type": "markdown",
   "id": "1a6fcb3c",
   "metadata": {},
   "source": [
    "# 1.\tWrite a Python program to convert kilometers to miles?\n",
    "\n"
   ]
  },
  {
   "cell_type": "code",
   "execution_count": 6,
   "id": "ce04b4e5",
   "metadata": {},
   "outputs": [
    {
     "name": "stdout",
     "output_type": "stream",
     "text": [
      "Enter Kilometer: 1\n",
      "1KM in mile is: 0.621373M\n"
     ]
    }
   ],
   "source": [
    "# 1km = 1000m\n",
    "# 1mile = 1609.34m\n",
    "\n",
    "km = int(input(\"Enter Kilometer: \"))\n",
    "km_in_meter = km*1000\n",
    "mile = km_in_meter/1609.34\n",
    "\n",
    "print(f\"{km}KM in mile is: {round(mile, 6)}M\")"
   ]
  },
  {
   "cell_type": "markdown",
   "id": "2577e569",
   "metadata": {},
   "source": [
    "# 2.\tWrite a Python program to convert Celsius to Fahrenheit?\n"
   ]
  },
  {
   "cell_type": "code",
   "execution_count": 8,
   "id": "7deeeedc",
   "metadata": {},
   "outputs": [
    {
     "name": "stdout",
     "output_type": "stream",
     "text": [
      "Enter Temprature in Celsius: 5\n",
      "5C in fahrenheit is: 41.0F\n"
     ]
    }
   ],
   "source": [
    "# 1f = -17.2222c\n",
    "# 1c = 33.8f\n",
    "\n",
    "temp = int(input(\"Enter Temprature in Celsius: \"))\n",
    "celsius_to_fahrenheit = (temp*1.8) + 32\n",
    "print(f\"{temp}C in fahrenheit is: {round(celsius_to_fahrenheit, 6)}F\")"
   ]
  },
  {
   "cell_type": "markdown",
   "id": "a0f483d8",
   "metadata": {},
   "source": [
    "# 3.\tWrite a Python program to display calendar?\n"
   ]
  },
  {
   "cell_type": "code",
   "execution_count": 1,
   "id": "c46f6a51",
   "metadata": {},
   "outputs": [
    {
     "name": "stdout",
     "output_type": "stream",
     "text": [
      "Enter Year: 2023\n",
      "                                                  2023\n",
      "\n",
      "      January                     February                     March                       April\n",
      "Mo Tu We Th Fr Sa Su        Mo Tu We Th Fr Sa Su        Mo Tu We Th Fr Sa Su        Mo Tu We Th Fr Sa Su\n",
      "                   1               1  2  3  4  5               1  2  3  4  5                        1  2\n",
      " 2  3  4  5  6  7  8         6  7  8  9 10 11 12         6  7  8  9 10 11 12         3  4  5  6  7  8  9\n",
      " 9 10 11 12 13 14 15        13 14 15 16 17 18 19        13 14 15 16 17 18 19        10 11 12 13 14 15 16\n",
      "16 17 18 19 20 21 22        20 21 22 23 24 25 26        20 21 22 23 24 25 26        17 18 19 20 21 22 23\n",
      "23 24 25 26 27 28 29        27 28                       27 28 29 30 31              24 25 26 27 28 29 30\n",
      "30 31\n",
      "\n",
      "        May                         June                        July                       August\n",
      "Mo Tu We Th Fr Sa Su        Mo Tu We Th Fr Sa Su        Mo Tu We Th Fr Sa Su        Mo Tu We Th Fr Sa Su\n",
      " 1  2  3  4  5  6  7                  1  2  3  4                        1  2            1  2  3  4  5  6\n",
      " 8  9 10 11 12 13 14         5  6  7  8  9 10 11         3  4  5  6  7  8  9         7  8  9 10 11 12 13\n",
      "15 16 17 18 19 20 21        12 13 14 15 16 17 18        10 11 12 13 14 15 16        14 15 16 17 18 19 20\n",
      "22 23 24 25 26 27 28        19 20 21 22 23 24 25        17 18 19 20 21 22 23        21 22 23 24 25 26 27\n",
      "29 30 31                    26 27 28 29 30              24 25 26 27 28 29 30        28 29 30 31\n",
      "                                                        31\n",
      "\n",
      "     September                    October                     November                    December\n",
      "Mo Tu We Th Fr Sa Su        Mo Tu We Th Fr Sa Su        Mo Tu We Th Fr Sa Su        Mo Tu We Th Fr Sa Su\n",
      "             1  2  3                           1               1  2  3  4  5                     1  2  3\n",
      " 4  5  6  7  8  9 10         2  3  4  5  6  7  8         6  7  8  9 10 11 12         4  5  6  7  8  9 10\n",
      "11 12 13 14 15 16 17         9 10 11 12 13 14 15        13 14 15 16 17 18 19        11 12 13 14 15 16 17\n",
      "18 19 20 21 22 23 24        16 17 18 19 20 21 22        20 21 22 23 24 25 26        18 19 20 21 22 23 24\n",
      "25 26 27 28 29 30           23 24 25 26 27 28 29        27 28 29 30                 25 26 27 28 29 30 31\n",
      "                            30 31\n",
      "\n"
     ]
    }
   ],
   "source": [
    "from calendar import *\n",
    "year = int(input(\"Enter Year: \"))\n",
    "print(calendar(year, 2,1,8,4))"
   ]
  },
  {
   "cell_type": "markdown",
   "id": "1c595946",
   "metadata": {},
   "source": [
    "# 4.\tWrite a Python program to solve quadratic equation?\n"
   ]
  },
  {
   "cell_type": "code",
   "execution_count": 12,
   "id": "bdaeff14",
   "metadata": {},
   "outputs": [
    {
     "name": "stdout",
     "output_type": "stream",
     "text": [
      "The solution are (-3+0j) and (-2+0j)\n"
     ]
    }
   ],
   "source": [
    "import cmath\n",
    "\n",
    "a = 1\n",
    "b = 5\n",
    "c = 6\n",
    "\n",
    "# calculate the discriminant\n",
    "d = (b**2) - (4*a*c)\n",
    "\n",
    "# two solutions\n",
    "sol1 = (-b-cmath.sqrt(d))/(2*a)\n",
    "sol2 = (-b+cmath.sqrt(d))/(2*a)\n",
    "\n",
    "print('The solution are {0} and {1}'.format(sol1,sol2))"
   ]
  },
  {
   "cell_type": "markdown",
   "id": "e762c950",
   "metadata": {},
   "source": [
    "# 5.\tWrite a Python program to swap two variables without temp variable?"
   ]
  },
  {
   "cell_type": "code",
   "execution_count": 13,
   "id": "e8ad40cb",
   "metadata": {},
   "outputs": [
    {
     "name": "stdout",
     "output_type": "stream",
     "text": [
      "Before Swapping Value of a is 2 and Value of b is 3\n",
      "After Swapping, Value of a is 3 and Value of b is 2\n"
     ]
    }
   ],
   "source": [
    "a = 2\n",
    "b = 3\n",
    "print(f\"Before Swapping Value of a is {a} and Value of b is {b}\")\n",
    "a,b = b,a\n",
    "print(f\"After Swapping, Value of a is {a} and Value of b is {b}\")"
   ]
  },
  {
   "cell_type": "code",
   "execution_count": null,
   "id": "f01f4a0c",
   "metadata": {},
   "outputs": [],
   "source": []
  }
 ],
 "metadata": {
  "kernelspec": {
   "display_name": "Python 3 (ipykernel)",
   "language": "python",
   "name": "python3"
  },
  "language_info": {
   "codemirror_mode": {
    "name": "ipython",
    "version": 3
   },
   "file_extension": ".py",
   "mimetype": "text/x-python",
   "name": "python",
   "nbconvert_exporter": "python",
   "pygments_lexer": "ipython3",
   "version": "3.9.12"
  }
 },
 "nbformat": 4,
 "nbformat_minor": 5
}
